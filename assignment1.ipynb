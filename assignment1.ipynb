{
  "nbformat": 4,
  "nbformat_minor": 0,
  "metadata": {
    "colab": {
      "name": "Untitled1.ipynb",
      "provenance": [],
      "collapsed_sections": [],
      "authorship_tag": "ABX9TyNEXL+8sBKSF15vI0p/2pAP",
      "include_colab_link": true
    },
    "kernelspec": {
      "name": "python3",
      "display_name": "Python 3"
    },
    "language_info": {
      "name": "python"
    }
  },
  "cells": [
    {
      "cell_type": "markdown",
      "metadata": {
        "id": "view-in-github",
        "colab_type": "text"
      },
      "source": [
        "<a href=\"https://colab.research.google.com/github/Meghaaana/2216105/blob/main/assignment1.ipynb\" target=\"_parent\"><img src=\"https://colab.research.google.com/assets/colab-badge.svg\" alt=\"Open In Colab\"/></a>"
      ]
    },
    {
      "cell_type": "code",
      "execution_count": null,
      "metadata": {
        "id": "VRbhkFQZwTHE"
      },
      "outputs": [],
      "source": [
        "1. Implement the methods of String with examples."
      ]
    },
    {
      "cell_type": "code",
      "source": [
        "str1=\"The SUNSET is beautiful\"\n",
        "print(str1.upper())\n",
        "print(str1.lower())\n",
        "print(str1.swapcase())\n",
        "print(str1.title())\n",
        "\n",
        "print(str1.capitalize())\n",
        "\n",
        "print(str1.strip())\n",
        "print(str1.lstrip())\n",
        "print(str1.rstrip())\n"
      ],
      "metadata": {
        "colab": {
          "base_uri": "https://localhost:8080/"
        },
        "id": "kWtrRQq7YhXA",
        "outputId": "21516efb-ccdc-47cb-a6c8-177b304f73ff"
      },
      "execution_count": null,
      "outputs": [
        {
          "output_type": "stream",
          "name": "stdout",
          "text": [
            "THE SUNSET IS BEAUTIFUL\n",
            "the sunset is beautiful\n",
            "tHE sunset IS BEAUTIFUL\n",
            "The Sunset Is Beautiful\n",
            "The sunset is beautiful\n",
            "The SUNSET is beautiful\n",
            "The SUNSET is beautiful\n",
            "The SUNSET is beautiful\n"
          ]
        }
      ]
    },
    {
      "cell_type": "markdown",
      "source": [
        "2. Implement the methods of List with examples."
      ],
      "metadata": {
        "id": "lfcrG78scnfS"
      }
    },
    {
      "cell_type": "code",
      "source": [
        "lis1=[2,4,6,8]\n",
        "\n",
        "lis1.append(5)\n",
        "print(lis1)\n",
        "\n",
        "lis1.extend([10,12,14,16])\n",
        "print(lis1)\n",
        "\n",
        "lis1.insert(2,4.2)\n",
        "print(lis1)\n",
        "\n",
        "del lis1[5]\n",
        "print(lis1)\n",
        "\n",
        "del lis1[0:5]\n",
        "print(lis1)\n",
        "\n",
        "lis1.pop()\n",
        "print(lis1)\n",
        "\n",
        "lis1.clear()\n",
        "print(\"list elements:\",lis1)\n",
        "\n",
        "l11=[\"desert rose\",\"aphrodite\",\"butter\",\"tomboy\",\"aphrodite\",\"somebody\",\"mean it\",\"comethru\",\"aphrodite\"]\n",
        "print(\"list elements:\",l11)\n",
        "\n",
        "print(l11.count(\"aphrodite\"))\n",
        "\n",
        "print(len(l11))\n",
        "\n",
        "print(l11[::-3])\n",
        "\n",
        "l11.reverse()\n",
        "print(l11)\n",
        "\n",
        "l11.sort()\n",
        "print(l11)\n",
        "\n",
        "\n"
      ],
      "metadata": {
        "colab": {
          "base_uri": "https://localhost:8080/"
        },
        "id": "jY38vOTecxfo",
        "outputId": "04378530-503a-46b6-f4df-f9c0cf6aca82"
      },
      "execution_count": null,
      "outputs": [
        {
          "output_type": "stream",
          "name": "stdout",
          "text": [
            "[2, 4, 6, 8, 5]\n",
            "[2, 4, 6, 8, 5, 10, 12, 14, 16]\n",
            "[2, 4, 4.2, 6, 8, 5, 10, 12, 14, 16]\n",
            "[2, 4, 4.2, 6, 8, 10, 12, 14, 16]\n",
            "[10, 12, 14, 16]\n",
            "[10, 12, 14]\n",
            "list elements: []\n",
            "list elements: ['desert rose', 'aphrodite', 'butter', 'tomboy', 'aphrodite', 'somebody', 'mean it', 'comethru', 'aphrodite']\n",
            "3\n",
            "9\n",
            "['aphrodite', 'somebody', 'butter']\n",
            "['aphrodite', 'comethru', 'mean it', 'somebody', 'aphrodite', 'tomboy', 'butter', 'aphrodite', 'desert rose']\n",
            "['aphrodite', 'aphrodite', 'aphrodite', 'butter', 'comethru', 'desert rose', 'mean it', 'somebody', 'tomboy']\n"
          ]
        }
      ]
    },
    {
      "cell_type": "markdown",
      "source": [
        "3. Implement the methods of Tuple with examples."
      ],
      "metadata": {
        "id": "hSYg-UfSjxRW"
      }
    },
    {
      "cell_type": "code",
      "source": [
        "t1=(1,2,3,4,'apple','mango','banana',2,3,2)\n",
        "print(t1)\n",
        "print(t1.count(2),'times 2 value repeated in the tuple')\n",
        "print('The index of mango is :', t1.index('mango'))\n",
        "(1, 2, 3, 4, 'apple', 'mango', 'banana', 2, 3, 2)\n",
        "3 times 2 value repeated in the tuple\n",
        "The index of mango is : 5\n",
        "\n"
      ],
      "metadata": {
        "colab": {
          "base_uri": "https://localhost:8080/",
          "height": 130
        },
        "id": "0_Wdb_CHpCeq",
        "outputId": "444fafe7-7f4f-46b0-e146-f249c008d1b0"
      },
      "execution_count": 1,
      "outputs": [
        {
          "output_type": "error",
          "ename": "SyntaxError",
          "evalue": "ignored",
          "traceback": [
            "\u001b[0;36m  File \u001b[0;32m\"<ipython-input-1-7c186ac3630d>\"\u001b[0;36m, line \u001b[0;32m6\u001b[0m\n\u001b[0;31m    3 times 2 value repeated in the tuple\u001b[0m\n\u001b[0m          ^\u001b[0m\n\u001b[0;31mSyntaxError\u001b[0m\u001b[0;31m:\u001b[0m invalid syntax\n"
          ]
        }
      ]
    },
    {
      "cell_type": "markdown",
      "source": [
        "4.Implement the methods of dictionary with examples"
      ],
      "metadata": {
        "id": "HgVblnU0ucjS"
      }
    },
    {
      "cell_type": "code",
      "source": [
        "bd={'name':'raja','age':20,'phnno':9121323530}\n",
        "print(bd)\n",
        "\n",
        "print(bd.keys())\n",
        "\n",
        "print(bd.values())\n",
        "\n",
        "bd.pop('name')\n",
        "print(bd)\n",
        "\n",
        "bd.popitem()\n",
        "print(bd)\n",
        "x=bd.copy()\n",
        "print(x)\n",
        "\n",
        "x.update({'address':'warangal'})\n",
        "print(x)\n",
        "\n",
        "print(x.items())\n",
        "\n",
        "x.clear()\n",
        "print(x)"
      ],
      "metadata": {
        "colab": {
          "base_uri": "https://localhost:8080/"
        },
        "id": "OClHs8GNur08",
        "outputId": "70b558f0-d12b-46b4-e08b-77de3f5179b0"
      },
      "execution_count": 2,
      "outputs": [
        {
          "output_type": "stream",
          "name": "stdout",
          "text": [
            "{'name': 'raja', 'age': 20, 'phnno': 9121323530}\n",
            "dict_keys(['name', 'age', 'phnno'])\n",
            "dict_values(['raja', 20, 9121323530])\n",
            "{'age': 20, 'phnno': 9121323530}\n",
            "{'age': 20}\n",
            "{'age': 20}\n",
            "{'age': 20, 'address': 'warangal'}\n",
            "dict_items([('age', 20), ('address', 'warangal')])\n",
            "{}\n"
          ]
        }
      ]
    },
    {
      "cell_type": "markdown",
      "source": [
        "5.Implement the methods of sets with examples"
      ],
      "metadata": {
        "id": "eVbNvsN9uxt2"
      }
    },
    {
      "cell_type": "code",
      "source": [
        "s={1,2,3,'ramesh',3.5,4}\n",
        "p={}\n",
        "print(s)\n",
        "s.add(5)\n",
        "print(s)\n",
        "l=(3,5.6,'ramesh')\n",
        "print(s.union(l))\n",
        "\n",
        "print(s.intersection(l))\n",
        "\n",
        "print(s.difference(l))\n",
        "\n",
        "s.remove('ramesh')\n",
        "\n",
        "s.update({25,'ramesh'})\n"
      ],
      "metadata": {
        "colab": {
          "base_uri": "https://localhost:8080/"
        },
        "id": "opbG80ixu7qw",
        "outputId": "39854b6a-28cb-4046-d640-e0b0492bce14"
      },
      "execution_count": 3,
      "outputs": [
        {
          "output_type": "stream",
          "name": "stdout",
          "text": [
            "{1, 2, 3.5, 3, 4, 'ramesh'}\n",
            "{1, 2, 3.5, 3, 4, 5, 'ramesh'}\n",
            "{1, 2, 3.5, 3, 4, 5, 'ramesh', 5.6}\n",
            "{3, 'ramesh'}\n",
            "{1, 2, 3.5, 4, 5}\n"
          ]
        }
      ]
    },
    {
      "cell_type": "code",
      "source": [
        "6.)Write a python program to convert Decimal to Binary, Octal and Hexadecimal with direct method.\n",
        "\n"
      ],
      "metadata": {
        "id": "buguTEKDvAp-"
      },
      "execution_count": null,
      "outputs": []
    },
    {
      "cell_type": "code",
      "source": [
        "num=int(input(\"Enter a number:\"))\n",
        "print(bin(num))\n",
        "print(oct(num))\n",
        "print(hex(num))"
      ],
      "metadata": {
        "colab": {
          "base_uri": "https://localhost:8080/"
        },
        "id": "MFGo8VCkvM5J",
        "outputId": "1604ca2e-89d6-4369-b1a9-273d586545c7"
      },
      "execution_count": 4,
      "outputs": [
        {
          "output_type": "stream",
          "name": "stdout",
          "text": [
            "Enter a number:5\n",
            "0b101\n",
            "0o5\n",
            "0x5\n"
          ]
        }
      ]
    },
    {
      "cell_type": "markdown",
      "source": [
        "Q7) Implement Arithmetic operators with examples"
      ],
      "metadata": {
        "id": "07LS4mIhviEc"
      }
    },
    {
      "cell_type": "code",
      "source": [
        "a=int(input(\"Enter a number:\"))\n",
        "b=int(input(\"Enter a number:\"))\n",
        "print(a+b)\n",
        "print(abs(a-b))\n",
        "print(a*b)\n",
        "print(a/b)\n",
        "print(a%b)\n",
        "print(a**b)\n",
        "print(a//b)"
      ],
      "metadata": {
        "colab": {
          "base_uri": "https://localhost:8080/"
        },
        "id": "Nqv8vwGpvm4o",
        "outputId": "86c1b8bc-669f-4051-f5b2-54cc35ca44bf"
      },
      "execution_count": 5,
      "outputs": [
        {
          "output_type": "stream",
          "name": "stdout",
          "text": [
            "Enter a number:10\n",
            "Enter a number:5\n",
            "15\n",
            "5\n",
            "50\n",
            "2.0\n",
            "0\n",
            "100000\n",
            "2\n"
          ]
        }
      ]
    },
    {
      "cell_type": "markdown",
      "source": [
        "Q8) Implement Assignment operators with examples."
      ],
      "metadata": {
        "id": "aw2FPJU2vus3"
      }
    },
    {
      "cell_type": "code",
      "source": [
        "x=58\n",
        "y=40\n",
        "print(x)\n",
        "x+=3\n",
        "print(x)\n",
        "x-=3\n",
        "print(x)\n",
        "x*=3\n",
        "print(x)\n",
        "x/=3\n",
        "print(x)\n",
        "x%=3\n",
        "print(x)\n",
        "y//=3\n",
        "print(y)\n",
        "y**=3\n",
        "print(y)"
      ],
      "metadata": {
        "colab": {
          "base_uri": "https://localhost:8080/"
        },
        "id": "UTBieAMwv0Yw",
        "outputId": "36a8103b-57b7-4ccc-98bb-af81f72ed499"
      },
      "execution_count": 6,
      "outputs": [
        {
          "output_type": "stream",
          "name": "stdout",
          "text": [
            "58\n",
            "61\n",
            "58\n",
            "174\n",
            "58.0\n",
            "1.0\n",
            "13\n",
            "2197\n"
          ]
        }
      ]
    },
    {
      "cell_type": "markdown",
      "source": [
        "Q9) Implement Comparison operators with examples."
      ],
      "metadata": {
        "id": "okDqa3tav5Y1"
      }
    },
    {
      "cell_type": "code",
      "source": [
        "x1=\"yes\"\n",
        "y1=\"no\"\n",
        "print(x1==y1)\n",
        "print(x1!=y1)\n",
        "print(x1>y1)\n",
        "print(x1<y1)\n",
        "print(x1>=y1)\n",
        "print(x1<=y1)\n"
      ],
      "metadata": {
        "colab": {
          "base_uri": "https://localhost:8080/"
        },
        "id": "A4XyvSv3wF7-",
        "outputId": "47261f01-4117-43a4-d508-d9ab247a170e"
      },
      "execution_count": 7,
      "outputs": [
        {
          "output_type": "stream",
          "name": "stdout",
          "text": [
            "False\n",
            "True\n",
            "True\n",
            "False\n",
            "True\n",
            "False\n"
          ]
        }
      ]
    },
    {
      "cell_type": "markdown",
      "source": [
        "Q10) Implement Logical operators with examples."
      ],
      "metadata": {
        "id": "PC3-7iVHwMBr"
      }
    },
    {
      "cell_type": "code",
      "source": [
        "a1=11\n",
        "b1=5\n",
        "print(a1==5 and b1==11)\n",
        "print(a1==11 or b1==5)\n",
        "print(not a1==b1)"
      ],
      "metadata": {
        "colab": {
          "base_uri": "https://localhost:8080/"
        },
        "id": "hofk_jzvwQuO",
        "outputId": "101a6f8f-8642-4217-a290-91c9a88cbb89"
      },
      "execution_count": 8,
      "outputs": [
        {
          "output_type": "stream",
          "name": "stdout",
          "text": [
            "False\n",
            "True\n",
            "True\n"
          ]
        }
      ]
    },
    {
      "cell_type": "markdown",
      "source": [
        "Q11)Implement Bitwise operators with examples"
      ],
      "metadata": {
        "id": "VhDhQ9wUw07K"
      }
    },
    {
      "cell_type": "code",
      "source": [
        "c=1\n",
        "d=2\n",
        "print(c==23 & d==46)\n",
        "print(c&d)\n",
        "print(c==25|d==20)\n",
        "print(c&d)\n",
        "print(c^d)\n",
        "print(~c)\n",
        "print(c>>2)\n",
        "print(d<<2)"
      ],
      "metadata": {
        "colab": {
          "base_uri": "https://localhost:8080/"
        },
        "id": "cQv-kjjDw5MP",
        "outputId": "7b03d98b-18b1-480d-d9e0-3a46f8eb05be"
      },
      "execution_count": 9,
      "outputs": [
        {
          "output_type": "stream",
          "name": "stdout",
          "text": [
            "False\n",
            "0\n",
            "False\n",
            "0\n",
            "3\n",
            "-2\n",
            "0\n",
            "8\n"
          ]
        }
      ]
    },
    {
      "cell_type": "markdown",
      "source": [
        "Q12)Implement Membership operators with examples."
      ],
      "metadata": {
        "id": "Rnep1lMIxBlc"
      }
    },
    {
      "cell_type": "code",
      "source": [
        "st1=\"hello world\"\n",
        "print('h' in st1)\n",
        "print('p' in st1)\n",
        "print(\"llo\" in st1)\n",
        "print('h' not in st1)\n",
        "print('a' not in st1)\n",
        "print(\"llo\" not in st1)"
      ],
      "metadata": {
        "colab": {
          "base_uri": "https://localhost:8080/"
        },
        "id": "7jI7QdAJxFS4",
        "outputId": "f9a2928f-05fa-48fe-91b7-53addc81b125"
      },
      "execution_count": 10,
      "outputs": [
        {
          "output_type": "stream",
          "name": "stdout",
          "text": [
            "True\n",
            "False\n",
            "True\n",
            "False\n",
            "True\n",
            "False\n"
          ]
        }
      ]
    },
    {
      "cell_type": "markdown",
      "source": [
        "Q13)Implement Identity operators with examples"
      ],
      "metadata": {
        "id": "bouIjnomxjrG"
      }
    },
    {
      "cell_type": "code",
      "source": [
        "e=96\n",
        "f='11'\n",
        "print(e is f)\n",
        "print(e is not f)"
      ],
      "metadata": {
        "colab": {
          "base_uri": "https://localhost:8080/"
        },
        "id": "JaakqDaHxouf",
        "outputId": "aad9c7ad-fede-4a18-c0ea-ef3a509d2c72"
      },
      "execution_count": 11,
      "outputs": [
        {
          "output_type": "stream",
          "name": "stdout",
          "text": [
            "False\n",
            "True\n"
          ]
        }
      ]
    },
    {
      "cell_type": "markdown",
      "source": [
        "Q14)Demonstrate Negative indexing for List and apply slicing.\n",
        "\n"
      ],
      "metadata": {
        "id": "OI83QgyOxt4F"
      }
    },
    {
      "cell_type": "code",
      "source": [
        "l1=[1,2,3,4,5,46,'raja']\n",
        "# negative indexing\n",
        "print(l1[-1])\n",
        "print(l1[-7])\n",
        "print(l1[-4])\n",
        "#slicing\n",
        "print(l1[1:])\n",
        "print(l1[:])\n",
        "print(l1[::-1])"
      ],
      "metadata": {
        "colab": {
          "base_uri": "https://localhost:8080/"
        },
        "id": "cK2TWnYJxxkQ",
        "outputId": "df5d01e1-5284-430f-d9af-36dff128402a"
      },
      "execution_count": 12,
      "outputs": [
        {
          "output_type": "stream",
          "name": "stdout",
          "text": [
            "raja\n",
            "1\n",
            "4\n",
            "[2, 3, 4, 5, 46, 'raja']\n",
            "[1, 2, 3, 4, 5, 46, 'raja']\n",
            "['raja', 46, 5, 4, 3, 2, 1]\n"
          ]
        }
      ]
    },
    {
      "cell_type": "markdown",
      "source": [
        "Q15)Predict the output for the given code snippet and justify the result."
      ],
      "metadata": {
        "id": "7F_Y90oFx28O"
      }
    },
    {
      "cell_type": "code",
      "source": [
        "print( 'A series of characters designated as one object known as a string'[::-1][4::3] )\n",
        "#[::-1] it is for reversing and [4::3] it starts from 4 th index with step size as 3\n",
        "print(\"------------\")\n",
        "print( 'welcome to Python traing program'[3:10][::-1])\n",
        "#[3:10] it starts from 3 rd index and stops at 10 th index and the it will reverse the string"
      ],
      "metadata": {
        "colab": {
          "base_uri": "https://localhost:8080/"
        },
        "id": "2wN7frTTx6iC",
        "outputId": "a87a5ddb-0d35-4e1a-9a50-d451b2ca1f0a"
      },
      "execution_count": 13,
      "outputs": [
        {
          "output_type": "stream",
          "name": "stdout",
          "text": [
            "taawkcbe  tgestrcoeeA\n",
            "------------\n",
            "ot emoc\n"
          ]
        }
      ]
    },
    {
      "cell_type": "markdown",
      "source": [
        "Q16)Write a python code to get desired output; Input string : p_phrase = \"was it a car or a cat I saw\"; Output string : WAS I TAC A RO RAC A TI SAW"
      ],
      "metadata": {
        "id": "473Ywlj1x_UT"
      }
    },
    {
      "cell_type": "code",
      "source": [
        "p_phrase=\"was it a car or a cat I saw\"\n",
        "str22=p_phrase.upper()\n",
        "print(str22[::-1])\n"
      ],
      "metadata": {
        "colab": {
          "base_uri": "https://localhost:8080/"
        },
        "id": "BcDI5y-kyGqd",
        "outputId": "0b4cf5c1-76a3-486e-e470-a6a719acb237"
      },
      "execution_count": 14,
      "outputs": [
        {
          "output_type": "stream",
          "name": "stdout",
          "text": [
            "WAS I TAC A RO RAC A TI SAW\n"
          ]
        }
      ]
    },
    {
      "cell_type": "markdown",
      "source": [
        "Q17). You are required to generate a word similar to ZOO, X and Y that denote the number of Zs and Os respectively. The generated word similar to ZOO where Y= 2 * X. Input X= 2 Output ZZOOOO Input X= 5 Output ZZZZZOOOOOOOOOO\n",
        "\n"
      ],
      "metadata": {
        "id": "kKaUXj8tyMv5"
      }
    },
    {
      "cell_type": "code",
      "source": [
        "x=int(input(\"Enter a number=\"))\n",
        "y=2*x\n",
        "print('x=',x)\n",
        "print('y=',y)\n",
        "print('Z'*x,'O'*y,sep='')"
      ],
      "metadata": {
        "colab": {
          "base_uri": "https://localhost:8080/"
        },
        "id": "BAmBNfPsySQc",
        "outputId": "7d47ea76-c7dc-4a64-a3af-bca003abe7ad"
      },
      "execution_count": 15,
      "outputs": [
        {
          "output_type": "stream",
          "name": "stdout",
          "text": [
            "Enter a number=8\n",
            "x= 8\n",
            "y= 16\n",
            "ZZZZZZZZOOOOOOOOOOOOOOOO\n"
          ]
        }
      ]
    }
  ]
}